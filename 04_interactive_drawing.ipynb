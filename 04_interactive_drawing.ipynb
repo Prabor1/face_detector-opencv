{
 "cells": [
  {
   "cell_type": "code",
   "execution_count": 1,
   "metadata": {},
   "outputs": [],
   "source": [
    "# Import Library\n",
    "import cv2"
   ]
  },
  {
   "cell_type": "code",
   "execution_count": 2,
   "metadata": {},
   "outputs": [],
   "source": [
    "# Callback Function for the Mouse, Rectangle\n",
    "def draw_rectangle(event, x, y, flags, param):\n",
    "    \n",
    "    # write your global params.  \n",
    "    # Check the Project Computer Vision - Image Basics with OpenCV and Python\n",
    "    # to get an idea how you can do it\n",
    "    # pt1, pt2, top_left_clicked, bottom_right_clicked\n",
    "    \n",
    "    global pt1, pt2, top_left_clicked, bottom_right_clicked\n",
    "\n",
    "    \n",
    "    # Create an event for Left Button Down and assigned it to event\n",
    "    if event == cv2.EVENT_LBUTTONDOWN:\n",
    "\n",
    "\n",
    "        # Reset your Rectangle\n",
    "        if top_left_clicked == True and bottom_right_clicked == True:\n",
    "            \n",
    "            # Give 0 values to pt1 & pt2\n",
    "            pt1 = (0,0)\n",
    "            pt2 = (0,0)\n",
    "\n",
    "            # Give False value to your Trackers\n",
    "            top_left_clicked = False\n",
    "            bottom_right_clicked = False\n",
    "        \n",
    "        \n",
    "    # Check the top_left_clicked if it's False\n",
    "    if top_left_clicked == False:\n",
    "        pt1 = (x,y)\n",
    "        top_left_clicked = True\n",
    "    \n",
    "    \n",
    "    # Check the bottom_right_clicked if it's False\n",
    "    elif bottom_right_clicked == False:\n",
    "        \n",
    "        pt2 = (x,y)\n",
    "        bottom_right_clicked = True"
   ]
  },
  {
   "cell_type": "code",
   "execution_count": 3,
   "metadata": {},
   "outputs": [],
   "source": [
    "# pt1, pt2 Global Variables\n",
    "pt1 = (0,0)\n",
    "pt2 = (0,0)\n",
    "\n",
    "# Trackers are False\n",
    "top_left_clicked = False\n",
    "bottom_right_clicked = False"
   ]
  },
  {
   "cell_type": "code",
   "execution_count": 4,
   "metadata": {},
   "outputs": [],
   "source": [
    "# Take a video\n",
    "cap = cv2.VideoCapture(0)\n",
    "\n",
    "# Create a Named Window for the Connections\n",
    "cv2.namedWindow('Test')"
   ]
  },
  {
   "cell_type": "code",
   "execution_count": 5,
   "metadata": {},
   "outputs": [],
   "source": [
    "# Set a Mouse Callback\n",
    "cv2.setMouseCallback('Test', draw_rectangle)"
   ]
  },
  {
   "cell_type": "markdown",
   "metadata": {},
   "source": [
    "### Time for Magic"
   ]
  },
  {
   "cell_type": "code",
   "execution_count": 6,
   "metadata": {},
   "outputs": [],
   "source": [
    "while True:\n",
    "    \n",
    "    # Capture the frame\n",
    "    ret,frame = cap.read()\n",
    "    \n",
    "    # Based on the Global Variables Draw the Frame\n",
    "    if top_left_clicked == True:\n",
    "        \n",
    "        cv2.circle(frame, center = pt1, radius = 5, color = (255,0,255), thickness=-1)\n",
    "    \n",
    "    # Draw a Circle on the Frame\n",
    "    if top_left_clicked == True and bottom_right_clicked == True:\n",
    "        cv2.rectangle(frame, pt1, pt2, (0,0,255), 3)\n",
    "\n",
    "        \n",
    "    # Show the Frame\n",
    "    cv2.imshow('frame', frame)\n",
    "    \n",
    "    # 27 == esc button. You can use any other button like ord('q')\n",
    "    # If you try to close the window pressing the x you'll get in trouble (^_^)\n",
    "    if cv2.waitKey(3) & 0xFF == 27:\n",
    "        break\n",
    "    \n",
    "    \n",
    "# Never forget first to release\n",
    "# And then to destroy   \n",
    "cap.release()\n",
    "cv2.destroyAllWindows()"
   ]
  }
 ],
 "metadata": {
  "kernelspec": {
   "display_name": "Python 3",
   "language": "python",
   "name": "python3"
  },
  "language_info": {
   "codemirror_mode": {
    "name": "ipython",
    "version": 3
   },
   "file_extension": ".py",
   "mimetype": "text/x-python",
   "name": "python",
   "nbconvert_exporter": "python",
   "pygments_lexer": "ipython3",
   "version": "3.7.4"
  }
 },
 "nbformat": 4,
 "nbformat_minor": 4
}
